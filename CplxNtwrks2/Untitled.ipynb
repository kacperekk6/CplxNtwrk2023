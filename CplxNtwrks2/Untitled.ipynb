{
 "cells": [
  {
   "cell_type": "markdown",
   "id": "f00b2612",
   "metadata": {},
   "source": [
    "## Class graph\n",
    "\n",
    "    - We store graphs in dictionaries, where key is the node and "
   ]
  },
  {
   "cell_type": "markdown",
   "id": "1983172e",
   "metadata": {},
   "source": [
    "## Class graph docummentation:\n",
    "\n",
    "**class Graph** has the following attributes:\n",
    "\n",
    "- **vertices**\n"
   ]
  },
  {
   "cell_type": "code",
   "execution_count": 1,
   "id": "b543350e",
   "metadata": {},
   "outputs": [],
   "source": [
    "class Graph:\n",
    "    \n",
    "    def __init__(self):\n",
    "        self.vertices = {}\n",
    "        \n",
    "    def addVertex(self, vert):\n",
    "        if vert not in self.vertices:\n",
    "            self.vertices[vert] = []\n",
    "            \n",
    "    def addVerticesFromList(self, vertList):\n",
    "        for i in vertList:\n",
    "            self.addVertex(i)\n",
    "            \n",
    "    def addEdge(self, fromVert, toVert, weight = 1):\n",
    "        \n",
    "        verts_args = (fromVert, toVert)\n",
    "        \n",
    "        for element in verts_args:\n",
    "            if element not in self.vertices:\n",
    "                self.addVertex(element)\n",
    "    \n",
    "        tup_toVert = (toVert, weight)\n",
    "        tup_fromVert = (fromVert, weight)\n",
    "        \n",
    "        self.vertices[fromVert].append(tup_toVert)\n",
    "        self.vertices[toVert].append(tup_fromVert)\n",
    "        \n",
    "    def getVertices(self):\n",
    "        return self.vertices.keys()\n",
    "    \n",
    "    ## from this place I dont know what the fuck is going on here, but it works\n",
    "\n",
    "    def getEdges(self, weightsOn = True):\n",
    "        \n",
    "        edges = []\n",
    "\n",
    "        for vert in self.vertices:\n",
    "            for neighbor, weight in self.vertices[vert]:\n",
    "                if (neighbor, vert, weight) not in edges:\n",
    "                    edges.append((vert, neighbor, weight))\n",
    "\n",
    "        return edges\n",
    "    \n",
    "    def getNeighbors(self, vertKey):\n",
    "        if vertKey in self.vertices:\n",
    "            return [neigh[0] for neigh in self.vertices[vertKey]]\n",
    "        else:\n",
    "            return []\n",
    "    \n",
    "    def __contains__(self, vert):\n",
    "        return vert in self.vertices\n",
    "    \n",
    "    # I'm losing my sanity\n",
    "    \n",
    "    def saveGraph(self, filename):\n",
    "        with open(filename, 'w') as f:\n",
    "            f.write('graph {\\n')\n",
    "            for vert in self.vertices:\n",
    "                for neigh in self.vertices[vert]:\n",
    "                    f.write('\\t{} -- {} [label={}];\\n'.format(vert, neigh[0], neigh[1]))\n",
    "            f.write('}\\n')"
   ]
  },
  {
   "cell_type": "markdown",
   "id": "9b3bb3cb",
   "metadata": {},
   "source": [
    "### Initialization\n",
    "\n",
    "We create object '*graph1*' that is of class '*Graph*'"
   ]
  },
  {
   "cell_type": "code",
   "execution_count": 2,
   "id": "c762a0fe",
   "metadata": {},
   "outputs": [
    {
     "name": "stdout",
     "output_type": "stream",
     "text": [
      "{}\n"
     ]
    }
   ],
   "source": [
    "graph1 = Graph()\n",
    "\n",
    "print(graph1.vertices)"
   ]
  },
  {
   "cell_type": "markdown",
   "id": "0e841076",
   "metadata": {},
   "source": [
    "### Adding Vertex 'by hand' and from list"
   ]
  },
  {
   "cell_type": "code",
   "execution_count": 3,
   "id": "98f7ed38",
   "metadata": {},
   "outputs": [
    {
     "name": "stdout",
     "output_type": "stream",
     "text": [
      "{1: [], 2: [], 3: [], 7: []}\n"
     ]
    }
   ],
   "source": [
    "graph1.addVertex(1)\n",
    "graph1.addVertex(2)\n",
    "\n",
    "list = [1, 3, 7]\n",
    "\n",
    "graph1.addVerticesFromList(list)\n",
    "\n",
    "print(graph1.vertices)"
   ]
  },
  {
   "cell_type": "markdown",
   "id": "714f75a6",
   "metadata": {},
   "source": [
    "### Adding edges 'by hand':"
   ]
  },
  {
   "cell_type": "code",
   "execution_count": 4,
   "id": "52f37fe5",
   "metadata": {},
   "outputs": [
    {
     "name": "stdout",
     "output_type": "stream",
     "text": [
      "{1: [(6, 1)], 2: [], 3: [], 7: [], 6: [(1, 1)]}\n"
     ]
    }
   ],
   "source": [
    "graph1.addEdge(1, 6)\n",
    "\n",
    "print(graph1.vertices)"
   ]
  },
  {
   "cell_type": "markdown",
   "id": "6ba7c0c3",
   "metadata": {},
   "source": [
    "### from list:"
   ]
  },
  {
   "cell_type": "code",
   "execution_count": 5,
   "id": "3eda907f",
   "metadata": {},
   "outputs": [
    {
     "name": "stdout",
     "output_type": "stream",
     "text": [
      "{1: [(6, 1), (3, 0.7)], 2: [(3, 0.5)], 3: [(1, 0.7), (2, 0.5)], 7: [], 6: [(1, 1)]}\n"
     ]
    }
   ],
   "source": [
    "graph1.addEdge(1, 3, 0.7)\n",
    "graph1.addEdge(2, 3, 0.5)\n",
    "\n",
    "print(graph1.vertices)"
   ]
  },
  {
   "cell_type": "markdown",
   "id": "fa540d10",
   "metadata": {},
   "source": [
    "###  List of all vertices in the graph\n",
    "\n",
    "This function returns a list contatining all vertices in the graph"
   ]
  },
  {
   "cell_type": "code",
   "execution_count": 6,
   "id": "8cdaca79",
   "metadata": {},
   "outputs": [
    {
     "name": "stdout",
     "output_type": "stream",
     "text": [
      "dict_keys([1, 2, 3, 7, 6])\n"
     ]
    }
   ],
   "source": [
    "print(graph1.getVertices())"
   ]
  },
  {
   "cell_type": "markdown",
   "id": "8b114d78",
   "metadata": {},
   "source": [
    "### Get Edges:\n",
    "\n",
    "In case weights_on = **True**  the method returrns a list of tuples *(vertex1, vertex2, weight)*"
   ]
  },
  {
   "cell_type": "code",
   "execution_count": 7,
   "id": "952d1734",
   "metadata": {},
   "outputs": [
    {
     "data": {
      "text/plain": [
       "[(1, 6, 1), (1, 3, 0.7), (2, 3, 0.5)]"
      ]
     },
     "execution_count": 7,
     "metadata": {},
     "output_type": "execute_result"
    }
   ],
   "source": [
    "graph1.getEdges()"
   ]
  },
  {
   "cell_type": "code",
   "execution_count": null,
   "id": "f8f4f16e",
   "metadata": {},
   "outputs": [],
   "source": []
  }
 ],
 "metadata": {
  "kernelspec": {
   "display_name": "Python 3 (ipykernel)",
   "language": "python",
   "name": "python3"
  },
  "language_info": {
   "codemirror_mode": {
    "name": "ipython",
    "version": 3
   },
   "file_extension": ".py",
   "mimetype": "text/x-python",
   "name": "python",
   "nbconvert_exporter": "python",
   "pygments_lexer": "ipython3",
   "version": "3.9.13"
  }
 },
 "nbformat": 4,
 "nbformat_minor": 5
}
