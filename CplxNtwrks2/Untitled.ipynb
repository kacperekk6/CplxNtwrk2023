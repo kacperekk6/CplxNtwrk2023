{
 "cells": [
  {
   "cell_type": "markdown",
   "id": "f00b2612",
   "metadata": {},
   "source": [
    "## Class graph\n",
    "\n",
    "    - We store graphs in dictionaries, where key is the node and "
   ]
  },
  {
   "cell_type": "markdown",
   "id": "1983172e",
   "metadata": {},
   "source": [
    "## Class graph docummentation:\n",
    "\n",
    "**class Graph** has the following attributes:\n",
    "\n",
    "- **vertices**\n"
   ]
  },
  {
   "cell_type": "code",
   "execution_count": 1,
   "id": "b543350e",
   "metadata": {},
   "outputs": [],
   "source": [
    "class Graph:\n",
    "    \n",
    "    def __init__(self):\n",
    "        self.vertices = {}\n",
    "        \n",
    "    def addVertex(self, vert):\n",
    "        if vert not in self.vertices:\n",
    "            self.vertices[vert] = []\n",
    "            \n",
    "    def addVerticesFromList(self, vertList):\n",
    "        for i in vertList:\n",
    "            self.addVertex(i)\n",
    "            \n",
    "    def addEdge(self, fromVert, toVert, weight = 1):\n",
    "        \n",
    "        verts_args = (fromVert, toVert)\n",
    "        \n",
    "        for element in verts_args:\n",
    "            if element not in self.vertices:\n",
    "                self.addVertex(element)\n",
    "    \n",
    "        tup_toVert = (toVert, weight)\n",
    "        tup_fromVert = (fromVert, weight)\n",
    "        \n",
    "        self.vertices[fromVert].append(tup_toVert)\n",
    "        self.vertices[toVert].append(tup_fromVert)"
   ]
  },
  {
   "cell_type": "markdown",
   "id": "9b3bb3cb",
   "metadata": {},
   "source": [
    "### Initialization\n",
    "\n",
    "We create object '*graph1*' that is of class '*Graph*'"
   ]
  },
  {
   "cell_type": "code",
   "execution_count": 2,
   "id": "c762a0fe",
   "metadata": {},
   "outputs": [
    {
     "name": "stdout",
     "output_type": "stream",
     "text": [
      "{}\n"
     ]
    }
   ],
   "source": [
    "graph1 = Graph()\n",
    "\n",
    "print(graph1.vertices)"
   ]
  },
  {
   "cell_type": "markdown",
   "id": "0e841076",
   "metadata": {},
   "source": [
    "### Adding Vertex 'by hand' and from list"
   ]
  },
  {
   "cell_type": "code",
   "execution_count": 3,
   "id": "98f7ed38",
   "metadata": {},
   "outputs": [
    {
     "name": "stdout",
     "output_type": "stream",
     "text": [
      "{1: [], 2: [], 3: [], 7: []}\n"
     ]
    }
   ],
   "source": [
    "graph1.addVertex(1)\n",
    "graph1.addVertex(2)\n",
    "\n",
    "list = [1, 3, 7]\n",
    "\n",
    "graph1.addVerticesFromList(list)\n",
    "\n",
    "print(graph1.vertices)"
   ]
  },
  {
   "cell_type": "markdown",
   "id": "714f75a6",
   "metadata": {},
   "source": [
    "## Adding edge"
   ]
  },
  {
   "cell_type": "code",
   "execution_count": 4,
   "id": "52f37fe5",
   "metadata": {},
   "outputs": [
    {
     "name": "stdout",
     "output_type": "stream",
     "text": [
      "{1: [(6, None)], 2: [], 3: [], 7: [], 6: [(1, None)]}\n"
     ]
    }
   ],
   "source": [
    "graph1.addEdge(1, 6)\n",
    "\n",
    "print(graph1.vertices)"
   ]
  },
  {
   "cell_type": "code",
   "execution_count": 5,
   "id": "3eda907f",
   "metadata": {},
   "outputs": [
    {
     "name": "stdout",
     "output_type": "stream",
     "text": [
      "{1: [(6, None), (3, 0.7)], 2: [], 3: [(1, 0.7)], 7: [], 6: [(1, None)]}\n"
     ]
    }
   ],
   "source": [
    "graph1.addEdge(1, 3, 0.7)\n",
    "\n",
    "print(graph1.vertices)"
   ]
  },
  {
   "cell_type": "code",
   "execution_count": null,
   "id": "8cdaca79",
   "metadata": {},
   "outputs": [],
   "source": []
  }
 ],
 "metadata": {
  "kernelspec": {
   "display_name": "Python 3 (ipykernel)",
   "language": "python",
   "name": "python3"
  },
  "language_info": {
   "codemirror_mode": {
    "name": "ipython",
    "version": 3
   },
   "file_extension": ".py",
   "mimetype": "text/x-python",
   "name": "python",
   "nbconvert_exporter": "python",
   "pygments_lexer": "ipython3",
   "version": "3.9.13"
  }
 },
 "nbformat": 4,
 "nbformat_minor": 5
}
