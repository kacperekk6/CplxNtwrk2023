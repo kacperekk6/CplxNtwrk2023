{
 "cells": [
  {
   "cell_type": "markdown",
   "id": "f00b2612",
   "metadata": {},
   "source": [
    "\n",
    "# Assignment 2\n",
    "\n",
    "**Kacper Kinastowski 30/03/2023**\n",
    "\n",
    "**Diffusion processes on complex networks**\n",
    "\n",
    "## TOC:\n",
    "* [Graph Class docummentation](#class)\n",
    "* [Class Implementation](#class-imp)\n",
    "* [Example 1 - how to use this class?](#ex1)\n",
    "* [Example 2 - name list](#ex2)"
   ]
  },
  {
   "cell_type": "markdown",
   "id": "249407e9",
   "metadata": {},
   "source": [
    "## Graph Class docummentation <a class=\"anchor\" id=\"class\"></a>\n",
    "\n",
    "My goal was to implement undirected graph structure in Python. The structure  \n",
    "\n",
    "Class **Graph** has the following attributes:\n",
    "\n",
    "- **vertices** -  A dictionary of vertices and their neighbors. Every vertex is represented by a key in the dictionary and it's value is a list of tuples. Every tuple stores two values, first value represents the neighbor and the second represents the weight of this bond.\n",
    "\n",
    "For example the graph connection between '*Bob*' and '*Alice*' with bond weight = 0.5 can be represented by:"
   ]
  },
  {
   "cell_type": "code",
   "execution_count": 1,
   "id": "82d7711b",
   "metadata": {},
   "outputs": [],
   "source": [
    "example_dictionary = {'Bob': [('Alice', 0.5)], 'Alice': [('Bob', 0.5)]}"
   ]
  },
  {
   "cell_type": "markdown",
   "id": "1983172e",
   "metadata": {},
   "source": [
    "Class **Graph** has the following methods:\n",
    "\n",
    "- **__init__(self)** - initialization of graph dictionary.\n",
    "\n",
    "- **addVertex(self, vert)** - adds vertice to existing graph. Method does not create duplicates.\n",
    "\n",
    "- **addVerticesFromList(self, vertList)** - adds list of vertices to existing graph.\n",
    "\n",
    "- **addEdge(self, fromVert, toVert, weight = 1)** - adds edge between two vertices **fromVert** and **toVert** with default **weight = 1**. If given vertices are not present in graph, the method creates them.\n",
    "\n",
    "- **getVertices()** - Returns a list of all vertices in the graph.\n",
    "\n",
    "- **getEdges()** - Returns a list of all edges in the graph.\n",
    "\n",
    "- **getNeighbors(vertKey)** - Returns a list of neighbors of the given vertex **vertKey**. If the vertex does not exist, returns an empty list.\n",
    "\n",
    "- **__contains__(vert)** - Returns **True** if the given vertex is in the graph, **False** otherwise.\n",
    "\n",
    "- **saveGraph(filename)** - Saves the graph in the **DOT** language to a file. The file can be used with graph visualization software.\n",
    "\n",
    "- **shortestDistance(fromVert)** - Returns dictionary with shortest distance between **fromVert** and other vertices in the graph. This method uses Dijkstra's algorithm to find the shortest path from the given vertex to all other vertices in the graph. "
   ]
  },
  {
   "cell_type": "markdown",
   "id": "8ce10134",
   "metadata": {},
   "source": [
    "## Class Implementation <a class=\"anchor\" id=\"class-imp\"></a>"
   ]
  },
  {
   "cell_type": "code",
   "execution_count": 8,
   "id": "b543350e",
   "metadata": {},
   "outputs": [],
   "source": [
    "import random\n",
    "import networkx as nx\n",
    "\n",
    "class Graph:\n",
    "    \n",
    "    def __init__(self):\n",
    "        self.vertices = {}\n",
    "        \n",
    "    def addVertex(self, vert):\n",
    "        if vert not in self.vertices:\n",
    "            self.vertices[vert] = []\n",
    "            \n",
    "    def addVerticesFromList(self, vertList):\n",
    "        for i in vertList:\n",
    "            self.addVertex(i)\n",
    "            \n",
    "    def addEdge(self, fromVert, toVert, weight = 1):\n",
    "        \n",
    "        verts_args = (fromVert, toVert)\n",
    "        \n",
    "        for element in verts_args:\n",
    "            if element not in self.vertices:\n",
    "                self.addVertex(element)\n",
    "    \n",
    "        tup_toVert = (toVert, weight)\n",
    "        tup_fromVert = (fromVert, weight)\n",
    "        \n",
    "        self.vertices[fromVert].append(tup_toVert)\n",
    "        self.vertices[toVert].append(tup_fromVert)\n",
    "        \n",
    "    def getVertices(self):\n",
    "        return self.vertices.keys()\n",
    "\n",
    "    def getEdges(self):\n",
    "        \n",
    "        edges = []\n",
    "\n",
    "        for vert in self.vertices:\n",
    "            for neighbor, weight in self.vertices[vert]:\n",
    "                if (neighbor, vert, weight) not in edges:\n",
    "                    edges.append((vert, neighbor, weight))\n",
    "\n",
    "        return edges\n",
    "    \n",
    "    def getNeighbors(self, vertKey):\n",
    "        if vertKey in self.vertices:\n",
    "            l = [neigh[0] for neigh in self.vertices[vertKey]]\n",
    "        else:\n",
    "            l = []\n",
    "            \n",
    "        #delete duplicates\n",
    "        res = [*set(l)]\n",
    "        return res\n",
    "        \n",
    "    \n",
    "    def __contains__(self, vert):\n",
    "        return vert in self.vertices\n",
    "    \n",
    "    def saveGraph1(self, filename):\n",
    "        with open(filename, 'w') as f:\n",
    "            f.write('graph {\\n')\n",
    "            for vert in self.vertices:\n",
    "                for neigh in self.vertices[vert]:\n",
    "                    f.write('\\t{} -- {} [label={}];\\n'.format(vert, neigh[0], neigh[1]))\n",
    "            f.write('}\\n')\n",
    "            \n",
    "    def saveGraph(self, filename, add_label=False):\n",
    "        with open(filename, 'w') as f:\n",
    "            f.write('graph {\\n')\n",
    "            visited = set()\n",
    "            for vert in self.vertices:\n",
    "                for neigh, weight in self.vertices[vert]:\n",
    "                    if (vert, neigh) not in visited and (neigh, vert) not in visited:\n",
    "                        if add_label:\n",
    "                            f.write('\\t{} -- {} [label={}];\\n'.format(vert, neigh, weight))\n",
    "                        else:\n",
    "                            f.write('\\t{} -- {};\\n'.format(vert, neigh))\n",
    "                        visited.add((vert, neigh))\n",
    "            f.write('}\\n')\n",
    "\n",
    "    def getShortestPaths(self, fromVert):\n",
    "        distances = {vert: float('inf') for vert in self.vertices}\n",
    "        distances[fromVert] = 0\n",
    "        visited = {vert: False for vert in self.vertices}\n",
    "\n",
    "        while True:\n",
    "            minDist = float('inf')\n",
    "            minVert = None\n",
    "            for vert in self.vertices:\n",
    "                if not visited[vert] and distances[vert] < minDist:\n",
    "                    minDist = distances[vert]\n",
    "                    minVert = vert\n",
    "\n",
    "            if minVert is None:\n",
    "                break\n",
    "\n",
    "            for neigh, weight in self.vertices[minVert]:\n",
    "                newDist = distances[minVert] + weight\n",
    "                if newDist < distances[neigh]:\n",
    "                    distances[neigh] = newDist\n",
    "\n",
    "            visited[minVert] = True\n",
    "\n",
    "        return distances\n",
    "    \n",
    "    def toNetworkx(self):\n",
    "        nx_graph = nx.Graph()\n",
    "\n",
    "        for vertex in self.vertices:\n",
    "            nx_graph.add_node(vertex)\n",
    "\n",
    "        for edge in self.getEdges():\n",
    "            from_vert, to_vert, weight = edge\n",
    "            nx_graph.add_edge(from_vert, to_vert, weight=weight)\n",
    "\n",
    "        return nx_graph\n",
    "\n",
    "    def randomGraph(self, n, p):\n",
    "        self.vertices = {}\n",
    "        self.numVertices = 0\n",
    "\n",
    "        for node in range(n):\n",
    "            self.addVertex(node)\n",
    "\n",
    "        edges = [(i, j) for i in range(n) for j in range(i + 1, n) if random.random() < p]\n",
    "\n",
    "        for i, j in edges:\n",
    "            self.addEdge(i, j)\n",
    "\n",
    "        return self"
   ]
  },
  {
   "cell_type": "markdown",
   "id": "9b3bb3cb",
   "metadata": {},
   "source": [
    "### What's new? <a class=\"anchor\" id=\"ex1\"></a>\n",
    "\n",
    "Demo of new *randomGraph* method:"
   ]
  },
  {
   "cell_type": "code",
   "execution_count": 3,
   "id": "eeccdcc8",
   "metadata": {},
   "outputs": [
    {
     "data": {
      "text/plain": [
       "[(0, 1, 1), (0, 4, 1), (1, 2, 1), (1, 4, 1), (2, 3, 1), (2, 4, 1)]"
      ]
     },
     "execution_count": 3,
     "metadata": {},
     "output_type": "execute_result"
    }
   ],
   "source": [
    "graph = Graph()\n",
    "graph.randomGraph(5, 0.5)\n",
    "graph.getEdges()"
   ]
  },
  {
   "cell_type": "markdown",
   "id": "e1172f35",
   "metadata": {},
   "source": [
    "New *toNetworkx method* :"
   ]
  },
  {
   "cell_type": "code",
   "execution_count": 7,
   "id": "1fb46772",
   "metadata": {},
   "outputs": [
    {
     "name": "stdout",
     "output_type": "stream",
     "text": [
      "[(0, 1), (0, 4), (1, 2), (1, 4), (2, 3), (2, 4)]\n"
     ]
    }
   ],
   "source": [
    "x = graph.toNetworkx()\n",
    "print(x.edges)"
   ]
  },
  {
   "cell_type": "code",
   "execution_count": null,
   "id": "df58eb2a",
   "metadata": {},
   "outputs": [],
   "source": []
  }
 ],
 "metadata": {
  "kernelspec": {
   "display_name": "Python 3 (ipykernel)",
   "language": "python",
   "name": "python3"
  },
  "language_info": {
   "codemirror_mode": {
    "name": "ipython",
    "version": 3
   },
   "file_extension": ".py",
   "mimetype": "text/x-python",
   "name": "python",
   "nbconvert_exporter": "python",
   "pygments_lexer": "ipython3",
   "version": "3.9.13"
  }
 },
 "nbformat": 4,
 "nbformat_minor": 5
}
